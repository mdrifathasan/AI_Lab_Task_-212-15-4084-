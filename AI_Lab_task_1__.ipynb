{
  "nbformat": 4,
  "nbformat_minor": 0,
  "metadata": {
    "colab": {
      "provenance": []
    },
    "kernelspec": {
      "name": "python3",
      "display_name": "Python 3"
    },
    "language_info": {
      "name": "python"
    }
  },
  "cells": [
    {
      "cell_type": "code",
      "execution_count": null,
      "metadata": {
        "id": "x3-tnjGr2h1M"
      },
      "outputs": [],
      "source": [
        "thislist = [\"iphone\", \"samsung\", \"oneplus\", \"walton\", \"redmi\", \"sony\", \"symphony\"]\n",
        "print(thislist)\n",
        "print(len(thislist))    #determining length\n",
        "print(type(thislist))   #determining type\n",
        "print(thislist[1])      #no.1 index\n",
        "print(thislist[-1])     #last index\n",
        "print(thislist[2:5])    #from index 2, before index 5.\n",
        "print(thislist[:4])     #from starting to before index 4\n",
        "print(thislist[2:])     #from index 2 to end"
      ]
    },
    {
      "cell_type": "code",
      "source": [
        "thislist = [\"phy\", \"che\", \"math\"]\n",
        "thislist[1] = \"ict\"\n",
        "print(thislist)\n",
        "\n",
        "thislist.insert(2, \"eng\")\n",
        "print(thislist)\n",
        "\n",
        "thislist.append(\"ban\")\n",
        "print(thislist)\n",
        "\n",
        "thislist.remove(\"phy\")\n",
        "print(thislist)\n",
        "\n",
        "thislist.sort()\n",
        "print(thislist)\n",
        "\n",
        "mylist = thislist.copy()\n",
        "print(mylist)\n",
        "\n",
        "list1 = [\"a\", \"b\", \"c\"]\n",
        "list2 = [1, 2, 3]\n",
        "\n",
        "list3 = list1 + list2\n",
        "print(list3)"
      ],
      "metadata": {
        "id": "M1JaDr3i2mWR"
      },
      "execution_count": null,
      "outputs": []
    },
    {
      "cell_type": "code",
      "source": [
        "slicing"
      ],
      "metadata": {
        "id": "lMbmipon3A7y"
      },
      "execution_count": null,
      "outputs": []
    },
    {
      "cell_type": "code",
      "source": [
        "a = (\"a\", \"b\", \"c\", \"d\", \"e\", \"f\", \"g\", \"h\")\n",
        "x = slice(3, 5)\n",
        "print(a[x])\n",
        "\n",
        "x = slice(0, 8, 3)\n",
        "print(a[x])"
      ],
      "metadata": {
        "id": "tSRrqe0B2t2S"
      },
      "execution_count": null,
      "outputs": []
    },
    {
      "cell_type": "code",
      "source": [
        "File"
      ],
      "metadata": {
        "id": "JOVDcIml3H8i"
      },
      "execution_count": null,
      "outputs": []
    },
    {
      "cell_type": "code",
      "source": [
        "f= open(\"a.txt\")\n",
        "f = open(\"a.txt\", \"r\")\n",
        "print(f.read())"
      ],
      "metadata": {
        "id": "7C4Ey81u2xWZ"
      },
      "execution_count": null,
      "outputs": []
    },
    {
      "cell_type": "code",
      "source": [],
      "metadata": {
        "id": "s9xNppQs3Guy"
      },
      "execution_count": null,
      "outputs": []
    },
    {
      "cell_type": "code",
      "source": [
        "f = open(\"a.txt\", \"a\")\n",
        "f.write(\"write\")\n",
        "f.close()\n",
        "\n",
        "\n",
        "f = open(\"a.txt\", \"r\")\n",
        "print(f.read())"
      ],
      "metadata": {
        "id": "a-BtPvnG21K6"
      },
      "execution_count": null,
      "outputs": []
    }
  ]
}